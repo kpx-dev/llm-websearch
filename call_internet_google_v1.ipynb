{
 "cells": [
  {
   "cell_type": "markdown",
   "metadata": {},
   "source": [
    "# Call Google Search with tool use\n",
    "\n",
    "## Learning goals\n",
    "\n",
    "* Learn tool use with JSON output\n",
    "* Give your LLM an option to search Google if it cannot answer the question\n",
    "\n",
    "Put stuff here"
   ]
  },
  {
   "cell_type": "markdown",
   "metadata": {},
   "source": [
    "***"
   ]
  },
  {
   "cell_type": "code",
   "execution_count": 1,
   "metadata": {
    "tags": []
   },
   "outputs": [
    {
     "name": "stdout",
     "output_type": "stream",
     "text": [
      "Note: you may need to restart the kernel to use updated packages.\n",
      "\u001b[31mERROR: Could not find a version that satisfies the requirement requirements-new.txt (from versions: none)\u001b[0m\u001b[31m\n",
      "\u001b[0m\u001b[31mERROR: No matching distribution found for requirements-new.txt\u001b[0m\u001b[31m\n",
      "\u001b[0mNote: you may need to restart the kernel to use updated packages.\n"
     ]
    }
   ],
   "source": [
    "%pip install -qU pip\n",
    "%pip install requirements.txt"
   ]
  },
  {
   "cell_type": "code",
   "execution_count": 1,
   "metadata": {
    "tags": []
   },
   "outputs": [],
   "source": [
    "import boto3\n",
    "import json\n",
    "import os\n",
    "import shutil\n",
    "import requests\n",
    "import string\n",
    "from googlesearch import search\n",
    "from bs4 import BeautifulSoup\n",
    "from datetime import datetime\n",
    "from botocore.exceptions import ClientError\n",
    "\n",
    "session = boto3.Session()\n",
    "region = session.region_name"
   ]
  },
  {
   "cell_type": "code",
   "execution_count": 2,
   "metadata": {
    "tags": []
   },
   "outputs": [],
   "source": [
    "#modelId = 'anthropic.claude-3-sonnet-20240229-v1:0'\n",
    "#modelId = 'anthropic.claude-3-haiku-20240307-v1:0'\n",
    "modelId = 'anthropic.claude-3-5-sonnet-20240620-v1:0'\n",
    "\n",
    "bedrock_client = boto3.client(service_name = 'bedrock-runtime', region_name = region,)"
   ]
  },
  {
   "cell_type": "markdown",
   "metadata": {},
   "source": [
    "***"
   ]
  },
  {
   "cell_type": "markdown",
   "metadata": {},
   "source": [
    "## Google example\n",
    "\n",
    "put stuff here"
   ]
  },
  {
   "cell_type": "code",
   "execution_count": 3,
   "metadata": {
    "tags": []
   },
   "outputs": [],
   "source": [
    "def get_page_content(url):\n",
    "    try:\n",
    "        response = requests.get(url)\n",
    "        if response:\n",
    "            # Parse HTML content\n",
    "            soup = BeautifulSoup(response.text, 'html.parser')\n",
    "            # Remove script and style elements\n",
    "            for script_or_style in soup([\"script\", \"style\"]):\n",
    "                script_or_style.decompose()\n",
    "            # Get text\n",
    "            text = soup.get_text()\n",
    "            # Break into lines and remove leading and trailing space on each\n",
    "            lines = (line.strip() for line in text.splitlines())\n",
    "            # Break multi-headlines into a line each\n",
    "            chunks = (phrase.strip() for line in lines for phrase in line.split(\"  \"))\n",
    "            # Drop blank lines\n",
    "            cleaned_text = '\\n'.join(chunk for chunk in chunks if chunk)\n",
    "            return cleaned_text\n",
    "        else:\n",
    "            raise Exception(\"No response from the server.\")\n",
    "    except Exception as e:\n",
    "        print(f\"Error while fetching and cleaning content from {url}: {e}\")\n",
    "        return None\n",
    "\n",
    "def search_google(query):\n",
    "    try:\n",
    "        search_results = []\n",
    "        for j in search(query, sleep_interval=5, num_results=3):\n",
    "            search_results.append(j)\n",
    "        return search_results\n",
    "    except Exception as e:\n",
    "        print(f\"Error during Google search: {e}\")\n",
    "        return []\n",
    "\n",
    "def handle_search(event):\n",
    "    #input_text = event.get('inputText', '')  # Extract 'inputText'\n",
    "    input_text = event\n",
    "\n",
    "    # Proceed with Google search\n",
    "    print(\"Performing Google search...\")\n",
    "    urls_to_scrape = search_google(input_text)\n",
    "\n",
    "    aggregated_content = \"\"\n",
    "    results = \"\"\n",
    "    for url in urls_to_scrape:\n",
    "        #print(\"URLs Used: \", url)\n",
    "        content = get_page_content(url)\n",
    "        if content:\n",
    "            #print(\"CONTENT: \", content)\n",
    "            #filename = url.split('//')[-1].replace('/', '_') + '.txt'  # Simple filename from URL\n",
    "            #aggregated_content += f\"URL: {url}\\n\\n{content}\\n\\n{'='*100}\\n\\n\"\n",
    "            #results.append({'url': url, 'status': 'Content aggregated'})\n",
    "            results = results + content\n",
    "\n",
    "    return results\n",
    "\n"
   ]
  },
  {
   "cell_type": "code",
   "execution_count": 4,
   "metadata": {
    "tags": []
   },
   "outputs": [],
   "source": [
    "#tool definition\n",
    "\n",
    "toolConfig = {\n",
    "  \"tools\": [\n",
    "    {\n",
    "      \"toolSpec\": {\n",
    "        \"name\": \"google_search\",\n",
    "        \"description\": \"A tool to retrieve an up to date information from a Google search.\",\n",
    "        \"inputSchema\": {\n",
    "          \"json\": {\n",
    "            \"type\": \"object\",\n",
    "            \"properties\": {\n",
    "              \"question\": {\n",
    "                \"type\": \"string\",\n",
    "                \"description\": \"The users question as-is to be searched by Google\"\n",
    "              }\n",
    "            },\n",
    "            \"required\": [\"question\"]\n",
    "          }\n",
    "        }\n",
    "      }\n",
    "    }\n",
    "  ]\n",
    "}"
   ]
  },
  {
   "cell_type": "code",
   "execution_count": 5,
   "metadata": {
    "tags": []
   },
   "outputs": [],
   "source": [
    "#The function that answers the question based on google search content\n",
    "def answer_question_with_content(question, content):\n",
    "    query = f\"\"\"\n",
    "    Based solely on this content:\n",
    "    <content>\n",
    "    {content}\n",
    "    </content>\n",
    "    Answer this question:\n",
    "    <question>\n",
    "    {question}\n",
    "    </question>\n",
    "    Skip any preamble or references to the tool.\n",
    "    \"\"\"\n",
    "\n",
    "    converse_api_params = {\n",
    "        \"modelId\": modelId,\n",
    "        \"messages\": [{\"role\": \"user\", \"content\": [{\"text\": query}]}],\n",
    "        \"system\": [\n",
    "            { \"text\": \"You are an expert research assistant.\" }\n",
    "            ],\n",
    "        \"inferenceConfig\": {\n",
    "            \"maxTokens\": 4096,\n",
    "            \"temperature\": 0\n",
    "        }\n",
    "    }\n",
    "\n",
    "    response = bedrock_client.converse(**converse_api_params)\n",
    "    #print(f\"\\nresponse = {response}\\n\")\n",
    "    return response"
   ]
  },
  {
   "cell_type": "code",
   "execution_count": 6,
   "metadata": {
    "tags": []
   },
   "outputs": [],
   "source": [
    "#The function that generates the json for a given article subject\n",
    "def answer_question(question):\n",
    "    query = f\"\"\"\n",
    "    <question>\n",
    "    {question}\n",
    "    </question>\n",
    "\n",
    "    You have access to the google_search tool. Only use the google_search tool if you cannot answer the question from your knowledge. \n",
    "    For example only use the tool if the subject or event is too new.\n",
    "    Skip the preamble.\n",
    "    \n",
    "    \"\"\"\n",
    "\n",
    "    converse_api_params = {\n",
    "        \"modelId\": modelId,\n",
    "        \"messages\": [{\"role\": \"user\", \"content\": [{\"text\": query}]}],\n",
    "        \"toolConfig\": toolConfig,\n",
    "        \"system\": [\n",
    "            { \"text\": \"You are an expert research assistant.\" }\n",
    "            ],\n",
    "        \"inferenceConfig\": {\n",
    "            \"maxTokens\": 4096,\n",
    "            \"temperature\": 0\n",
    "        }\n",
    "    }\n",
    "\n",
    "    response = bedrock_client.converse(**converse_api_params)\n",
    "    #print(f\"\\nresponse = {response}\\n\")\n",
    "\n",
    "    google_search = None\n",
    "    for content in response['output']['message']['content']:\n",
    "        if isinstance(content, dict) and 'toolUse' in content:\n",
    "            tool_use = content['toolUse']\n",
    "            if tool_use['name'] == \"google_search\":\n",
    "                google_search = tool_use['input']\n",
    "                break\n",
    "\n",
    "    if google_search:\n",
    "        #print(json.dumps(google_search, indent=2))\n",
    "        question = google_search[\"question\"]\n",
    "        content = handle_search(question)\n",
    "        if content:\n",
    "            print(\"Google search successful\")\n",
    "            response = answer_question_with_content(question, content)\n",
    "            print(f\"\\nresponse = {response['output']['message']['content'][-1]['text']}\\n\")\n",
    "        else:\n",
    "            print(\"No content found from Google search\")\n",
    "    else:\n",
    "        print(\"No Google search found in the response.\")\n",
    "        print(f\"\\nresponse = {response['output']['message']['content'][-1]['text']}\\n\")"
   ]
  },
  {
   "cell_type": "code",
   "execution_count": 7,
   "metadata": {},
   "outputs": [
    {
     "name": "stdout",
     "output_type": "stream",
     "text": [
      "No Google search found in the response.\n",
      "\n",
      "response = Based on my knowledge, I can answer this question without using the google_search tool.\n",
      "\n",
      "Tiger Woods won the 2019 Masters golf tournament. This was a significant victory for Woods, as it marked his first major championship win in 11 years and his fifth Masters title overall. The tournament took place from April 11-14, 2019, at Augusta National Golf Club in Augusta, Georgia. Woods finished with a score of 13 under par, one stroke ahead of his closest competitors.\n",
      "\n"
     ]
    }
   ],
   "source": [
    "answer_question(\"Who won the 2019 Masters golf tournament?\")"
   ]
  },
  {
   "cell_type": "code",
   "execution_count": 8,
   "metadata": {
    "tags": []
   },
   "outputs": [
    {
     "name": "stdout",
     "output_type": "stream",
     "text": [
      "Performing Google search...\n",
      "Google search successful\n",
      "\n",
      "response = Jon Rahm won the 2023 Masters golf tournament. He shot a 12-under 276 for the weekend, beating out Phil Mickelson and Brooks Koepka who tied for second at 8-under 280.\n",
      "\n"
     ]
    }
   ],
   "source": [
    "answer_question(\"Who won the 2023 Masters golf tournament?\")"
   ]
  },
  {
   "cell_type": "code",
   "execution_count": 9,
   "metadata": {
    "tags": []
   },
   "outputs": [
    {
     "name": "stdout",
     "output_type": "stream",
     "text": [
      "Performing Google search...\n",
      "Google search successful\n",
      "\n",
      "response = According to the weather information provided, the current weather in Seattle, WA is:\n",
      "\n",
      "68°F, Mostly Cloudy, with winds from the North at 3 mph gusting to 5 mph.\n",
      "\n"
     ]
    }
   ],
   "source": [
    "answer_question(\"What is the current weather in Seattle, Wa right now?\")"
   ]
  },
  {
   "cell_type": "code",
   "execution_count": 11,
   "metadata": {
    "tags": []
   },
   "outputs": [
    {
     "name": "stdout",
     "output_type": "stream",
     "text": [
      "No Google search found in the response.\n",
      "\n",
      "response = I can answer this question without using the google_search tool, as the current time and date in Seattle, WA is not information that requires an up-to-date search.\n",
      "\n",
      "Seattle, WA is in the Pacific Time Zone (PT). The current time and date in Seattle would depend on when this response is being read. However, I can provide you with the general time zone information:\n",
      "\n",
      "Seattle follows Pacific Time (PT), which is typically:\n",
      "- Pacific Standard Time (PST) during the winter months\n",
      "- Pacific Daylight Time (PDT) during the summer months (when daylight saving time is in effect)\n",
      "\n",
      "Seattle is usually 8 hours behind Coordinated Universal Time (UTC-8) during standard time, and 7 hours behind (UTC-7) during daylight saving time.\n",
      "\n",
      "To get the exact current time and date in Seattle, you would need to check a real-time clock or use a device set to the Pacific Time Zone.\n",
      "\n"
     ]
    }
   ],
   "source": [
    "answer_question(\"What is the current time and date in Seattle, WA?\")"
   ]
  },
  {
   "cell_type": "markdown",
   "metadata": {},
   "source": [
    "***"
   ]
  }
 ],
 "metadata": {
  "kernelspec": {
   "display_name": "conda_tensorflow2_p310",
   "language": "python",
   "name": "conda_tensorflow2_p310"
  },
  "language_info": {
   "codemirror_mode": {
    "name": "ipython",
    "version": 3
   },
   "file_extension": ".py",
   "mimetype": "text/x-python",
   "name": "python",
   "nbconvert_exporter": "python",
   "pygments_lexer": "ipython3",
   "version": "3.10.14"
  }
 },
 "nbformat": 4,
 "nbformat_minor": 4
}
